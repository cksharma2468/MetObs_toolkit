{
 "cells": [
  {
   "cell_type": "markdown",
   "id": "d87ff982-1540-4794-830f-146992df5aa4",
   "metadata": {},
   "source": [
    "This is an introduction to get started with the MetObs toolkit. Once the MetObs toolkit package is installed,\n",
    "you can import its functionality by:"
   ]
  },
  {
   "cell_type": "code",
   "execution_count": 2,
   "id": "b54b0b5d-59f4-400c-a4a8-ff07fe809ff6",
   "metadata": {},
   "outputs": [],
   "source": [
    "import metobs_toolkit"
   ]
  },
  {
   "cell_type": "markdown",
   "id": "55faab4a-537b-4028-9adf-890746c4b8c0",
   "metadata": {},
   "source": [
    "# Dataset\n",
    "\n",
    "A dataset is a collection of all observational data. Most of the methods are\n",
    "applied directly on a dataset. Start by creating an empty dataset object:"
   ]
  },
  {
   "cell_type": "code",
   "execution_count": 3,
   "id": "ffbfd64f-8724-48bb-b8c5-af1c45ad6a66",
   "metadata": {},
   "outputs": [],
   "source": [
    "your_dataset = metobs_toolkit.Dataset()"
   ]
  },
  {
   "cell_type": "markdown",
   "id": "d088aba9-2a00-4030-8395-01792094c737",
   "metadata": {},
   "source": [
    "The most relevant attributes of a Dataset are:\n",
    "    * .df --> a pandas DataFrame where all the observation data is stored\n",
    "    * .metadf --> a pandas DataFrame where all the metadata for each station is stored\n",
    "    * .settings --> a Settings object to store all specific settings.\n",
    "    * .missing_obs and .gaps --> here the missing records and gaps are stored if present.\n",
    "\n",
    "Note that each Dataset will be equipped with the default settings.\n",
    "\n",
    "\n",
    "We created a dataset and stored in under the variable 'your_dataset'.\n",
    "The show function prints out an overview of data in the dataset:"
   ]
  },
  {
   "cell_type": "code",
   "execution_count": 4,
   "id": "4296efe0-7a6a-413c-a4c0-7d79b30d0ab2",
   "metadata": {},
   "outputs": [
    {
     "name": "stdout",
     "output_type": "stream",
     "text": [
      "\n",
      " --------  General --------- \n",
      "\n",
      "Empty instance of a Dataset.\n",
      "\n",
      " --------  Settings --------- \n",
      "\n",
      "(to show all settings use the .show_settings() method, or set show_all_settings = True)\n",
      "\n",
      " --------  Outliers --------- \n",
      "\n",
      "No outliers.\n",
      "\n",
      " --------  Meta data --------- \n",
      "\n",
      "No metadata is found.\n"
     ]
    }
   ],
   "source": [
    "your_dataset.show() # or .get_info()"
   ]
  },
  {
   "cell_type": "markdown",
   "id": "34273a79-477d-4c04-ba59-65a677adfe25",
   "metadata": {},
   "source": [
    "TIP: to get an extensive overview of an object, call the .show() method on it."
   ]
  },
  {
   "cell_type": "markdown",
   "id": "60edb538-7a11-4745-9514-94f9d577cd9c",
   "metadata": {},
   "source": [
    "\n",
    "# Importing data\n",
    "\n",
    "\n",
    "To import your data into a Dataframe, the following files are required:\n",
    "\n",
    "    * data file: This is the csv file containing the observations\n",
    "    * (optional) metadata file: The csv file containing metadata for each station.\n",
    "    * template file: This is a csv file that is used to interpret your data file, and metadata file if present.\n",
    "\n",
    "In practice you need to start by creating a template file for your data. More\n",
    "information on the creation of the template can be found in documentation\n",
    "(under \"Mapping to the toolkit\").\n",
    "\n",
    "TIP: Use the template assistant of the toolkit for creating a template file by uncommenting and running the following cell.\n"
   ]
  },
  {
   "cell_type": "code",
   "execution_count": 5,
   "id": "a34d31e9-6d3f-46a9-973e-f5a41b38e2e4",
   "metadata": {},
   "outputs": [],
   "source": [
    "# metobs_toolkit.build_template_prompt()"
   ]
  },
  {
   "cell_type": "markdown",
   "id": "65c6e54f-3073-4d77-8f7d-eda0465748a5",
   "metadata": {},
   "source": [
    "To import data, you must specify the paths to your data, metadata and template are.\n",
    "For this example we use the demo data, metadata and template that comes with\n",
    "the toolkit."
   ]
  },
  {
   "cell_type": "code",
   "execution_count": null,
   "id": "bbcbe25e-855e-46b5-ba80-e90a655ef719",
   "metadata": {},
   "outputs": [],
   "source": []
  }
 ],
 "metadata": {
  "kernelspec": {
   "display_name": "Python 3 (ipykernel)",
   "language": "python",
   "name": "python3"
  },
  "language_info": {
   "codemirror_mode": {
    "name": "ipython",
    "version": 3
   },
   "file_extension": ".py",
   "mimetype": "text/x-python",
   "name": "python",
   "nbconvert_exporter": "python",
   "pygments_lexer": "ipython3",
   "version": "3.9.18"
  }
 },
 "nbformat": 4,
 "nbformat_minor": 5
}
